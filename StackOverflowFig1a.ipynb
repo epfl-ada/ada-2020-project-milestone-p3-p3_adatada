{
 "cells": [
  {
   "cell_type": "markdown",
   "metadata": {},
   "source": [
    "# Extension : Figure 1A with Stack Overflow"
   ]
  },
  {
   "cell_type": "markdown",
   "metadata": {},
   "source": [
    "## Libraries\n",
    "- bq_helper : Api to simplify use of BigQuery Api, used to do queries and store result in a dataframe\n",
    "- pandas : to perform operations on dataframes\n",
    "- matplotlib : for plotting our values\n",
    "- numpy : for list operations\n",
    "- os : to set environmental variables"
   ]
  },
  {
   "cell_type": "code",
   "execution_count": 1,
   "metadata": {},
   "outputs": [],
   "source": [
    "import bq_helper\n",
    "from bq_helper import BigQueryHelper\n",
    "import pandas as pd\n",
    "import numpy as np\n",
    "import matplotlib.pyplot as plt\n",
    "import os\n",
    "# Key to access to bigquery API, to change with own key if need to run in local\n",
    "os.environ[\"GOOGLE_APPLICATION_CREDENTIALS\"]=\"My Project 17425-755a3d361b77.json\""
   ]
  },
  {
   "cell_type": "markdown",
   "metadata": {},
   "source": [
    "## Step 1 : Loading the data\n",
    "\n",
    "The dataset we were using is a public dataset on the BigQuery application administered by Google. To access the dataset we use the Bq Helper API. As input we can give our SQL query to the database, and we have as output a dataframe containing the requested information."
   ]
  },
  {
   "cell_type": "code",
   "execution_count": 2,
   "metadata": {},
   "outputs": [],
   "source": [
    "# Initialization of the object allowing us to make queries to the BibQuery api\n",
    "bq_assistant = BigQueryHelper(\"bigquery-public-data\", \"stackoverflow\")"
   ]
  },
  {
   "cell_type": "code",
   "execution_count": 3,
   "metadata": {},
   "outputs": [],
   "source": [
    "# SQL query to retrieve users\n",
    "query_users = \"\"\"SELECT\n",
    "  id\n",
    "FROM\n",
    "  `bigquery-public-data.stackoverflow.users`\n",
    "        \"\"\"\n",
    "# Call to load the result of the query in a dataframe.\n",
    "df_users_1a = bq_assistant.query_to_pandas(query_users)"
   ]
  },
  {
   "cell_type": "code",
   "execution_count": null,
   "metadata": {},
   "outputs": [],
   "source": [
    "# SQL query to retrieve comments\n",
    "query_comments = \"\"\"SELECT\n",
    "  id, user_id\n",
    "FROM\n",
    "  `bigquery-public-data.stackoverflow.comments`\n",
    "        \"\"\"\n",
    "# Call to load the result of the query in a dataframe.\n",
    "df_comments_1a = bq_assistant.query_to_pandas(query_comments)"
   ]
  },
  {
   "cell_type": "code",
   "execution_count": null,
   "metadata": {},
   "outputs": [],
   "source": [
    "df_users_1a"
   ]
  },
  {
   "cell_type": "code",
   "execution_count": null,
   "metadata": {},
   "outputs": [],
   "source": [
    "df_comments_1a"
   ]
  },
  {
   "cell_type": "markdown",
   "metadata": {},
   "source": [
    "## Step 2 : Filtering the data\n",
    "\n",
    "We would like to create a plot showing the distribution of the number of comments according to users. To do this, each comment must be associated with a user, which is not the case in our dataframe containing the comments. We will therefore discard the comments associated with no user.\n"
   ]
  },
  {
   "cell_type": "code",
   "execution_count": null,
   "metadata": {},
   "outputs": [],
   "source": [
    "print('Number of comments before deleting those linked to no user : ',len(df_comments_1a))\n",
    "df_comments_1a.dropna(inplace=True)\n",
    "print('Number of comments after deleting those linked to no user : ',len(df_comments_1a))"
   ]
  },
  {
   "cell_type": "markdown",
   "metadata": {},
   "source": [
    "## Step 3 : Processing and Plotting\n",
    "\n",
    "Now that we have our data, we can process it to make our plot showind distribution of number of comments accross users. In the figure, the Complementary Cumulative Distributive Function (CCDF) of the number of comments per user is represented. \n",
    "\n",
    "Here are the different steps for the creation of our plot :\n",
    "\n",
    "- Group by comments by user and count them\n",
    "- Create a dataframe with all the users without any comments\n",
    "- Add users of the platform who have not posted any comments to the dataframe with the count of comments per user\n",
    "- Compute a list with as value the sum of accounts with a number of comments equal or superior to the position of the entry. eg - at position 2 have the number of users with at least 2 comments \n",
    "- Compute a list with the probability pr(X>=x) for each x, for the different minimum values of N. N is the minimum number of tweets for the users. We study the values of N ranging from 0 to 5 (included).\n",
    "- Plot a scatterplot with the number of comments on the abscissa and the probability (CCDF) on the ordinate."
   ]
  },
  {
   "cell_type": "code",
   "execution_count": null,
   "metadata": {},
   "outputs": [],
   "source": [
    "# Group by user and count, reset index is used to simplify operations on the dataframe\n",
    "comments_count = df_comments_1a.groupby(by='user_id')['id'].count().reset_index()"
   ]
  },
  {
   "cell_type": "code",
   "execution_count": null,
   "metadata": {},
   "outputs": [],
   "source": [
    "# list of users id with 0 comments, constructed with the difference between the set of all users and the set with only the users with at leat one comment\n",
    "users_0_comments_id = list(set(df_users_1a.id.values) - (set(comments_count.user_id.values)))\n",
    "\n",
    "# Building the dataset with only users with 0 comments\n",
    "df_users_0_comments = pd.DataFrame(list(zip(users_0_comments_id,[0]*len(users_0_comments_id))),columns=['user_id','id'])\n",
    "\n",
    "# We add to the dataframe with the count of comments for users with at leat 1 comment all the users with 0 comments\n",
    "df_allusers = comments_count.append(df_users_0_comments)"
   ]
  },
  {
   "cell_type": "code",
   "execution_count": null,
   "metadata": {},
   "outputs": [],
   "source": [
    "# The list with the number of occurrences is calculated using bincount function which counts the number of occurrences of each value in array of non-negative ints\n",
    "occurences = np.bincount(df_allusers.id)\n",
    "\n",
    "# Cumsum will contais the sum of accounts with a minimum number of tweets for different values.\n",
    "cumsum = []\n",
    "\n",
    "for i in range(0,len(occurences)):\n",
    "    if (occurences[i]==0):\n",
    "        cumsum.append(np.nan)\n",
    "    else:\n",
    "    # Cumsum takes the value of the sum of the elements between an index i and the end of the list occurrences if the number of occurrences of the value i is non-zero.    \n",
    "        cumsum.append(occurences[i:].sum())"
   ]
  },
  {
   "cell_type": "code",
   "execution_count": null,
   "metadata": {},
   "outputs": [],
   "source": [
    "plt.figure(figsize=(10,10))\n",
    "\n",
    "# We iterate over the different minimum values \n",
    "for n in range(0,6):\n",
    "    \n",
    "    # We retrieve the count of values greater than or equal to our minimum value - n -\n",
    "    y = cumsum[n:]\n",
    "    \n",
    "    #To transform our values into probabilities, we divide our values by the sum of all occurrences\n",
    "    y = y / y[0]\n",
    "    \n",
    "\n",
    "    statuses_values = df_allusers[df_allusers.id>=n].id.values.astype(int)\n",
    "    \n",
    "    # x is the list containing the possible values for the number of tweets. \n",
    "    # We add 1 to the min and max value, to have no 0, our scales are logarithmic, log(0) is undefined and therefore cannot be represented.\n",
    "    x = range(min(statuses_values)+1, max(statuses_values)+2)\n",
    "    \n",
    "    # Size is set to .3 for clarity, and we choose 'o' as marker as in the figure we are trying to replicate\n",
    "    plt.scatter(x,y,s=.3,label=\"N >=\"+str(n),marker='o')\n",
    "\n",
    "\n",
    "# We give as parameters to our graph the same parameters as the figure for scale, titles and labels.\n",
    "plt.legend()\n",
    "plt.loglog()\n",
    "plt.xlabel('Number of comments')\n",
    "plt.ylabel(r'$\\bar{Pr}(x \\geq x)$')\n",
    "plt.title('Log-log plot of the complementary cumulative distribution functions of the number of comments per user')\n",
    "\n",
    "plt.show()"
   ]
  }
 ],
 "metadata": {
  "kernelspec": {
   "display_name": "Python [conda env:ada] *",
   "language": "python",
   "name": "conda-env-ada-py"
  },
  "language_info": {
   "codemirror_mode": {
    "name": "ipython",
    "version": 3
   },
   "file_extension": ".py",
   "mimetype": "text/x-python",
   "name": "python",
   "nbconvert_exporter": "python",
   "pygments_lexer": "ipython3",
   "version": "3.8.5"
  }
 },
 "nbformat": 4,
 "nbformat_minor": 4
}
